{
 "cells": [
  {
   "cell_type": "markdown",
   "id": "a307bc31",
   "metadata": {},
   "source": [
    "## Intro\n",
    "\n",
    "\n",
    "KARL MAKE SURE TO UPDATE AND REFERENCE \n",
    "\n",
    "### Goal:\n",
    "An MNIST image is 784 pixels when unravelled. It is B/W, with values from 0-255. I want to create a ML model which will recognise the number written in the image.\n",
    "\n",
    "### To Investigate:\n",
    "How changing the number of hidden layer nodes affects the output. \n",
    "\n",
    "How adding layers or changing the nonlinear relationship (activation fn) between the layers affects the output. tanh, sigmoid, relu\n",
    "\n",
    "Graphing how quickly the model learns and reaches a threshold. \n",
    "\n",
    "How to squeeze a very accurate model out of it, maybe combine them? \n",
    "\n",
    "something with the back prop?\n",
    "\n",
    "how does the alpha affect it? \n",
    "\n",
    "instead of iterations, until an accuracy is reached? \n",
    "\n",
    "should I add some randomness to try find a global min?\n",
    "\n",
    "trying a different descent - with momentum? \n",
    "\n",
    "trying He initialization (typically used for ReLU activation functions) or Xavier\n",
    "\n",
    "### How it works\n",
    "Need to transpose first for Matrix Multiplication\n",
    "#### Forward Propagation\n",
    "This is how an image will proceed through the network\n",
    "\n",
    "A[0] = input layer (784 nodes)\n",
    "\n",
    "A[1] = ReLU( w[1]*A[0]+b[1] ), ReLU is the activation fn, it makes it a nonlinear relationship, RELU is f(x) = x, x>0, =0 x<=0. w is weights and b is biases. (10 nodes)\n",
    "\n",
    "A[2] = g(w[2]*A[1] +b[2]), g is softmax as this goes to the output layer. softmax is essentially exp() / sum(exp()). gives a probability. (10 nodes, 0-1 probability of being the value 0-9)\n",
    "\n",
    "#### Backward Propagation\n",
    "The thing that makes it learn. Want to see how wrong the model was and adjust the weights and biases\n",
    "\n",
    "what I want to know is how we know how much to change the weights by? \n",
    "\n",
    "this is the part I least understand\n",
    "\n",
    "obviously you have to do it in reverse - so the transpose of the matrix and the differential of the activation fn. \n",
    "\n",
    "dz[2] = A[2] - Y, Y is the answer from the catalogue\n",
    "\n",
    "unsure about this...\n",
    "\n",
    "dw[2] = 1/m dz[2]* a[1]^T, derivative of the loss fn wrt the weights, m is no of columns (ie number of images as it's been transposed)\n",
    "\n",
    "db[2] = 1/m sum dz[2], average of the absolute error \n",
    "\n",
    "dz[1] = w[2]^T * dz[2] * g'(z[1]), 1st derivative of activation fn \n",
    "\n",
    "dw[1] = 1/m dz[1] * A[0]^T\n",
    "\n",
    "db[1] = 1/m sum(dz[1])\n",
    "\n",
    "#### Update parameters\n",
    "need to choose \\alpha, learning rate hyperparameterm\n",
    "\n",
    "for each parameter (eg w[2]) you remove the delta times learning rate (-\\alpha* dw[2])"
   ]
  },
  {
   "cell_type": "markdown",
   "id": "28a60f65",
   "metadata": {},
   "source": [
    "# Code\n",
    "\n",
    "#### Set up"
   ]
  },
  {
   "cell_type": "code",
   "execution_count": 2,
   "id": "2fab11c4",
   "metadata": {},
   "outputs": [],
   "source": [
    "import numpy as np\n",
    "import matplotlib.pyplot as plt\n",
    "import pandas as pd \n",
    "\n",
    "#get data\n",
    "data = pd.read_csv('train.csv')\n",
    "data = np.array(data) #convert to numpy array \n",
    "\n",
    "m,n = data.shape #rows and columns m&n\n",
    "np.random.shuffle(data) #shuffle\n",
    "\n",
    "data = data.T #transpose \n",
    "\n",
    "labels = data[0] \n",
    "X = data[1:]/255 #these will be the imputs, /255 to normalise"
   ]
  },
  {
   "cell_type": "markdown",
   "id": "55d33775",
   "metadata": {},
   "source": [
    "data is now nxm, ie 785 x 42000 array. the extra row is the label of 0-9\n",
    "\n",
    "#### Generate functions"
   ]
  },
  {
   "cell_type": "code",
   "execution_count": 3,
   "id": "95f45c08",
   "metadata": {},
   "outputs": [],
   "source": [
    "def RELU(a):\n",
    "    \"\"\"\n",
    "    Performs the ReLU function, if the value is above zero it is returned, if it is below zero, zero is returned\n",
    "    \"\"\"\n",
    "    return np.maximum(a,0)\n",
    "\n",
    "def softmax(a):\n",
    "    \"\"\"\n",
    "    Performs softmax, essentially will get a probability out\n",
    "    \"\"\"\n",
    "    ####Not sure about this one \n",
    "    return np.exp(a) / (np.sum(np.exp(a),axis=0)) ###changed back to np.sum\n",
    "\n",
    "def RELU_prime(a):\n",
    "    \"\"\"\n",
    "    The derivative of the RELU fn. Returns 1 if x>0, 0 if x<=0\n",
    "    \"\"\"\n",
    "  \n",
    "    \n",
    "    return a>0 \n",
    "\n",
    "\n",
    "\n",
    "def initialise():\n",
    "    \"\"\"\n",
    "    Randomly initialises the weights and biases using a normal distribution\n",
    "    \"\"\"\n",
    "    w1 = np.random.normal(size = (10, 784))\n",
    "    b1 = np.random.normal(size = (10, 1))\n",
    "    w2 = np.random.normal(size = (10, 10))\n",
    "    b2 = np.random.normal(size = (10, 1))\n",
    "    \n",
    "    return w1,b1,w2,b2\n",
    "\n",
    "\n",
    "def forwardprop(w1,b1, w2,b2, x):\n",
    "    \"\"\"\n",
    "    Forward propagates the image through the net\n",
    "    \"\"\"\n",
    "    z1 = w1.dot(x) + b1 #apply weights and biases\n",
    "    a1 = RELU(z1) #activate layer\n",
    "    \n",
    "    z2 = w2.dot(a1) + b2 #apply w&b for 2nd layer\n",
    "    a2 = softmax(z2) #activate for output layer\n",
    "    \n",
    "    return z1,a1,z2,a2\n",
    "\n",
    "def fix(y):\n",
    "    #called one-hotting? (dk what that means)\n",
    "    Y = np.zeros((y.size, y.max() + 1))\n",
    "    Y[np.arange(y.size), y] = 1\n",
    "    return Y.T\n",
    "\n",
    "def backprop(z1,a1, z2,a2, w1,w2, x,y): #y is labels \n",
    "    global m \n",
    "    #need to get y in a nice format before putting it in here\n",
    "    y = fix(y)\n",
    "    \n",
    "    dz2 = a2 - y\n",
    "    dw2 = 1/m * dz2.dot(a1.T)\n",
    "    db2 = 1/m * np.sum(dz2,1,keepdims=True)\n",
    "#     print('backpropworkings: dz2,db2')\n",
    "#     print(dz2.shape)\n",
    "# #     print(dw2.shape)\n",
    "#     print(db2.shape)\n",
    "    \n",
    "#     print(dz2)\n",
    "#     print(dw2)\n",
    "#     print(db2)\n",
    "#     print('np.sum')\n",
    "#     print(np.sum(dz2))\n",
    "#     print('1/m * np.sum')\n",
    "#     print(1/m * np.sum(dz2,1))\n",
    "#     print('sum')\n",
    "#     print(sum(dz2).shape)\n",
    "    \n",
    "    \n",
    "    dz1 = (w2.T).dot(dz2) * RELU_prime(z1)\n",
    "    dw1 = 1/m * dz1.dot(x.T)\n",
    "    db1 = 1/m * np.sum(dz1,1, keepdims=True)\n",
    "    \n",
    "    return dw1, db1,dw2,db2\n",
    "\n",
    "def update(w1,b1, w2,b2, dw1,db1, dw2,db2, alpha):\n",
    "    w1 = w1 - alpha * dw1\n",
    "    b1 = b1 - alpha * db1\n",
    "    w2 = w2 - alpha * dw2\n",
    "    b2 = b2 - alpha * db2\n",
    "    return w1,b1, w2,b2\n",
    "        \n",
    "def accuracy(prediction,y):\n",
    "    return np.sum(prediction==y)/y.size\n"
   ]
  },
  {
   "cell_type": "code",
   "execution_count": 4,
   "id": "82aa7d2a",
   "metadata": {},
   "outputs": [],
   "source": [
    "def LEARN(x,y, iterations, alpha=0.7):\n",
    "    w1,b1,w2,b2 = initialise()\n",
    "#     print('init w1b1')\n",
    "#     print(w1.shape,b1.shape,w2.shape,b2.shape)\n",
    "    \n",
    "    for i in range(iterations):\n",
    "        z1,a1,z2,a2 = forwardprop(w1,b1,w2,b2, x)\n",
    "#         print('forward, z1,a1,z2,a2')\n",
    "#         print(z1.shape,a1.shape,z2.shape,a2.shape)\n",
    "        \n",
    "        dw1,db1, dw2,db2 = backprop(z1,a1, z2,a2, w1,w2, x,y)\n",
    "#         print('backward,dw1,db1, dw2,db2')\n",
    "#         print(dw1.shape,db1.shape, dw2.shape,db2.shape)\n",
    "        \n",
    "        w1,b1, w2,b2 = update(w1,b1, w2,b2, dw1,db1, dw2,db2, alpha)\n",
    "        \n",
    "        if i % 50 ==0:\n",
    "            print(i)\n",
    "#             print('a2', a2.shape)\n",
    "            prediction = np.argmax(a2,axis=0)\n",
    "            print(prediction.shape)\n",
    "            print(prediction)\n",
    "#             print(\"pred\",prediction.shape)\n",
    "#             print(prediction>0)\n",
    "            print(\"accuracy\",accuracy(prediction,y))\n",
    "    return w1,b1,w2,b2"
   ]
  },
  {
   "cell_type": "code",
   "execution_count": 5,
   "id": "dce5dbd5",
   "metadata": {
    "scrolled": false
   },
   "outputs": [
    {
     "name": "stdout",
     "output_type": "stream",
     "text": [
      "0\n",
      "(42000,)\n",
      "[7 7 7 ... 7 7 7]\n",
      "accuracy 0.108\n",
      "50\n",
      "(42000,)\n",
      "[7 6 6 ... 0 7 7]\n",
      "accuracy 0.25947619047619047\n",
      "100\n",
      "(42000,)\n",
      "[7 6 6 ... 0 7 7]\n",
      "accuracy 0.3502857142857143\n",
      "150\n",
      "(42000,)\n",
      "[7 6 6 ... 0 7 7]\n",
      "accuracy 0.38542857142857145\n",
      "200\n",
      "(42000,)\n",
      "[7 6 6 ... 0 7 7]\n",
      "accuracy 0.436\n",
      "250\n",
      "(42000,)\n",
      "[7 6 6 ... 0 7 7]\n",
      "accuracy 0.5001666666666666\n",
      "300\n",
      "(42000,)\n",
      "[7 6 6 ... 0 9 7]\n",
      "accuracy 0.523547619047619\n",
      "350\n",
      "(42000,)\n",
      "[7 6 6 ... 0 4 7]\n",
      "accuracy 0.5611428571428572\n",
      "400\n",
      "(42000,)\n",
      "[7 6 6 ... 0 4 7]\n",
      "accuracy 0.5824047619047619\n",
      "450\n",
      "(42000,)\n",
      "[7 6 6 ... 0 4 7]\n",
      "accuracy 0.6092619047619048\n",
      "500\n",
      "(42000,)\n",
      "[7 6 6 ... 0 4 7]\n",
      "accuracy 0.6374047619047619\n",
      "550\n",
      "(42000,)\n",
      "[7 6 6 ... 0 4 7]\n",
      "accuracy 0.6343095238095238\n",
      "600\n",
      "(42000,)\n",
      "[7 6 6 ... 0 4 7]\n",
      "accuracy 0.6621904761904762\n",
      "650\n",
      "(42000,)\n",
      "[4 2 6 ... 0 4 7]\n",
      "accuracy 0.6751666666666667\n",
      "700\n",
      "(42000,)\n",
      "[9 6 6 ... 8 9 7]\n",
      "accuracy 0.6668095238095239\n",
      "750\n",
      "(42000,)\n",
      "[4 2 6 ... 0 4 7]\n",
      "accuracy 0.6855238095238095\n"
     ]
    }
   ],
   "source": [
    "w1,b1,w2,b2 = LEARN(X,labels,800)#800)"
   ]
  },
  {
   "cell_type": "code",
   "execution_count": 6,
   "id": "53623b68",
   "metadata": {},
   "outputs": [],
   "source": [
    "def predict(w1,b1,w2,b2,x):\n",
    "    #must get a single image\n",
    "    _,_,_, a2 = forwardprop(w1,b1,w2,b2, x)\n",
    "    output = np.argmax(a2,axis=0)\n",
    "    return output[0]\n",
    "\n",
    "def test_prediction(ind, w1,b1,w2,b2):\n",
    "    global X,labels\n",
    "    image = X[:,ind]\n",
    "    pred = predict(w1,b1,w2,b2, image)\n",
    "    label = labels[ind]\n",
    "    print('Label:', label)\n",
    "    print('Prediction ', pred)\n",
    "    \n",
    "    image = image.reshape((28, 28)) * 255\n",
    "    plt.gray()\n",
    "    plt.imshow(image, interpolation='nearest')\n",
    "    plt.show()\n",
    "    "
   ]
  },
  {
   "cell_type": "code",
   "execution_count": 7,
   "id": "021c5b62",
   "metadata": {},
   "outputs": [],
   "source": [
    "# test_prediction(0,w1,b1,w2,b2)\n",
    "# print([i for i in predict(w1,b1,w2,b2,X) if i>0])\n",
    "\n",
    "#so it hits the same accuracy (0.983) because it predicts them all to be zeros, and 0 happens\n",
    "#to come up that many times \n",
    "\n",
    "#/var/folders/88/k7cqn0rn6tq41vl_nhn7qdfw0000gn/T/ipykernel_78736/2736214406.py:12: RuntimeWarning: overflow encountered in exp\n",
    "  #return np.exp(a) / (np.sum(np.exp(a)))\n",
    "#/var/folders/88/k7cqn0rn6tq41vl_nhn7qdfw0000gn/T/ipykernel_78736/2736214406.py:12: RuntimeWarning: invalid value encountered in divide\n",
    "  #return np.exp(a) / (np.sum(np.exp(a)))\n",
    "    \n",
    "    \n",
    "##ahhhhh it's working!! changed np.sum() to sum() in softmax!!!"
   ]
  },
  {
   "cell_type": "code",
   "execution_count": 8,
   "id": "6e251a64",
   "metadata": {},
   "outputs": [],
   "source": [
    "# w1 = np.random.normal(size = (10, 784))\n",
    "# print(X.shape)\n",
    "# print(w1.shape)\n",
    "# b1 = np.random.normal(size = (10, 1))\n",
    "# print((w1.dot(X)).shape)\n",
    "# print(b1.shape)"
   ]
  },
  {
   "cell_type": "code",
   "execution_count": 9,
   "id": "87bed689",
   "metadata": {
    "scrolled": false
   },
   "outputs": [
    {
     "name": "stdout",
     "output_type": "stream",
     "text": [
      "39484\n",
      "Label: 1\n",
      "Prediction  7\n"
     ]
    },
    {
     "data": {
      "image/png": "[encoded data removed]",
      "text/plain": [
       "<Figure size 640x480 with 1 Axes>"
      ]
     },
     "metadata": {},
     "output_type": "display_data"
    },
    {
     "name": "stdout",
     "output_type": "stream",
     "text": [
      "9356\n",
      "Label: 6\n",
      "Prediction  2\n"
     ]
    },
    {
     "data": {
      "image/png": "[encoded data removed]",
      "text/plain": [
       "<Figure size 640x480 with 1 Axes>"
      ]
     },
     "metadata": {},
     "output_type": "display_data"
    },
    {
     "name": "stdout",
     "output_type": "stream",
     "text": [
      "6446\n",
      "Label: 3\n",
      "Prediction  7\n"
     ]
    },
    {
     "data": {
      "image/png": "[encoded data removed]",
      "text/plain": [
       "<Figure size 640x480 with 1 Axes>"
      ]
     },
     "metadata": {},
     "output_type": "display_data"
    },
    {
     "name": "stdout",
     "output_type": "stream",
     "text": [
      "9958\n",
      "Label: 1\n",
      "Prediction  7\n"
     ]
    },
    {
     "data": {
      "image/png": "[encoded data removed]",
      "text/plain": [
       "<Figure size 640x480 with 1 Axes>"
      ]
     },
     "metadata": {},
     "output_type": "display_data"
    },
    {
     "name": "stdout",
     "output_type": "stream",
     "text": [
      "35306\n",
      "Label: 4\n",
      "Prediction  2\n"
     ]
    },
    {
     "data": {
      "image/png": "[encoded data removed]",
      "text/plain": [
       "<Figure size 640x480 with 1 Axes>"
      ]
     },
     "metadata": {},
     "output_type": "display_data"
    },
    {
     "name": "stdout",
     "output_type": "stream",
     "text": [
      "27947\n",
      "Label: 0\n",
      "Prediction  7\n"
     ]
    },
    {
     "data": {
      "image/png": "[encoded data removed]",
      "text/plain": [
       "<Figure size 640x480 with 1 Axes>"
      ]
     },
     "metadata": {},
     "output_type": "display_data"
    },
    {
     "name": "stdout",
     "output_type": "stream",
     "text": [
      "28158\n",
      "Label: 2\n",
      "Prediction  7\n"
     ]
    },
    {
     "data": {
      "image/png": "[encoded data removed]",
      "text/plain": [
       "<Figure size 640x480 with 1 Axes>"
      ]
     },
     "metadata": {},
     "output_type": "display_data"
    },
    {
     "name": "stdout",
     "output_type": "stream",
     "text": [
      "16706\n",
      "Label: 8\n",
      "Prediction  2\n"
     ]
    },
    {
     "data": {
      "image/png": "[encoded data removed]",
      "text/plain": [
       "<Figure size 640x480 with 1 Axes>"
      ]
     },
     "metadata": {},
     "output_type": "display_data"
    },
    {
     "name": "stdout",
     "output_type": "stream",
     "text": [
      "4037\n",
      "Label: 4\n",
      "Prediction  7\n"
     ]
    },
    {
     "data": {
      "image/png": "[encoded data removed]",
      "text/plain": [
       "<Figure size 640x480 with 1 Axes>"
      ]
     },
     "metadata": {},
     "output_type": "display_data"
    },
    {
     "name": "stdout",
     "output_type": "stream",
     "text": [
      "395\n",
      "Label: 6\n",
      "Prediction  2\n"
     ]
    },
    {
     "data": {
      "image/png": "[encoded data removed]",
      "text/plain": [
       "<Figure size 640x480 with 1 Axes>"
      ]
     },
     "metadata": {},
     "output_type": "display_data"
    },
    {
     "data": {
      "text/plain": [
       "37200"
      ]
     },
     "execution_count": 9,
     "metadata": {},
     "output_type": "execute_result"
    }
   ],
   "source": [
    "# print(X[:,0])\n",
    "\n",
    "for i in range(0,10):\n",
    "    index = np.random.randint(0,42000)\n",
    "    print(index)\n",
    "    test_prediction(index,w1,b1,w2,b2)\n",
    "# #     test_prediction(i,w1,b1,w2,b2)\n",
    "# test_prediction(1000,w1,b1,w2,b2)\n",
    "\n",
    "###very strange - why does it not give only 1 value? now I don't know what the accuracy is even checking \n",
    "\n",
    "np.random.randint(5000,50000)\n",
    "\n",
    "\n",
    "##### NEW ISSUE: \n",
    "#it is just not as accurate as it should be "
   ]
  },
  {
   "cell_type": "code",
   "execution_count": 11,
   "id": "f75979f6",
   "metadata": {},
   "outputs": [],
   "source": [
    "# w1"
   ]
  },
  {
   "cell_type": "code",
   "execution_count": null,
   "id": "a0b96457",
   "metadata": {},
   "outputs": [],
   "source": []
  }
 ],
 "metadata": {
  "kernelspec": {
   "display_name": "Python 3 (ipykernel)",
   "language": "python",
   "name": "python3"
  },
  "language_info": {
   "codemirror_mode": {
    "name": "ipython",
    "version": 3
   },
   "file_extension": ".py",
   "mimetype": "text/x-python",
   "name": "python",
   "nbconvert_exporter": "python",
   "pygments_lexer": "ipython3",
   "version": "3.11.5"
  }
 },
 "nbformat": 4,
 "nbformat_minor": 5
}
